{
 "cells": [
  {
   "cell_type": "code",
   "execution_count": 16,
   "metadata": {
    "collapsed": true
   },
   "outputs": [],
   "source": [
    "import json\n",
    "import pandas as pd\n",
    "import os\n",
    "from pandas import DataFrame, Series\n",
    "from elasticsearch import Elasticsearch"
   ]
  },
  {
   "cell_type": "code",
   "execution_count": 17,
   "metadata": {},
   "outputs": [
    {
     "name": "stderr",
     "output_type": "stream",
     "text": [
      "/tmp/ipykernel_6746/3737662446.py:2: ElasticsearchWarning: Elasticsearch built-in security features are not enabled. Without authentication, your cluster could be accessible to anyone. See https://www.elastic.co/guide/en/elasticsearch/reference/7.15/security-minimal-setup.html to enable security.\n",
      "  es.info()\n"
     ]
    },
    {
     "data": {
      "text/plain": [
       "ObjectApiResponse({'name': '547806deed1a', 'cluster_name': 'docker-cluster', 'cluster_uuid': 'lzis4wTMRMS_Y6iIGOWrMA', 'version': {'number': '7.15.2', 'build_flavor': 'default', 'build_type': 'docker', 'build_hash': '93d5a7f6192e8a1a12e154a2b81bf6fa7309da0c', 'build_date': '2021-11-04T14:04:42.515624022Z', 'build_snapshot': False, 'lucene_version': '8.9.0', 'minimum_wire_compatibility_version': '6.8.0', 'minimum_index_compatibility_version': '6.0.0-beta1'}, 'tagline': 'You Know, for Search'})"
      ]
     },
     "execution_count": 17,
     "metadata": {},
     "output_type": "execute_result"
    }
   ],
   "source": [
    "es = Elasticsearch(hosts=\"http://localhost:9200\")\n",
    "es.info()"
   ]
  },
  {
   "cell_type": "code",
   "execution_count": 18,
   "metadata": {},
   "outputs": [],
   "source": [
    "# If the index has been created before it can be removed by this line\n",
    "# es.indices.delete(index='komoot')"
   ]
  },
  {
   "cell_type": "code",
   "execution_count": 19,
   "metadata": {},
   "outputs": [],
   "source": [
    "# make start_point and coordinates geo types useable in kibana\n",
    "mapping = {\n",
    "    \"mappings\": {\n",
    "        \"properties\": {\n",
    "            \"start_point\": {\n",
    "                \"type\": \"geo_point\"\n",
    "            },\n",
    "            \"point_track\": {\n",
    "                \"type\": \"geo_shape\"\n",
    "            }\n",
    "        }\n",
    "    }\n",
    "}\n",
    "\n"
   ]
  },
  {
   "cell_type": "code",
   "execution_count": 20,
   "metadata": {},
   "outputs": [
    {
     "name": "stderr",
     "output_type": "stream",
     "text": [
      "/tmp/ipykernel_6746/143364395.py:2: DeprecationWarning: The 'body' parameter is deprecated and will be removed in a future version. Instead use individual parameters.\n",
      "  es.indices.create(\n",
      "/tmp/ipykernel_6746/143364395.py:2: ElasticsearchWarning: Elasticsearch built-in security features are not enabled. Without authentication, your cluster could be accessible to anyone. See https://www.elastic.co/guide/en/elasticsearch/reference/7.15/security-minimal-setup.html to enable security.\n",
      "  es.indices.create(\n"
     ]
    },
    {
     "data": {
      "text/plain": [
       "ObjectApiResponse({'acknowledged': True, 'shards_acknowledged': True, 'index': 'komoot-demo'})"
      ]
     },
     "execution_count": 20,
     "metadata": {},
     "output_type": "execute_result"
    }
   ],
   "source": [
    "# only execute if the index needs to be created/re-created\n",
    "es.indices.create(\n",
    "    index=\"komoot\",\n",
    "    body=mapping\n",
    ")"
   ]
  },
  {
   "cell_type": "code",
   "execution_count": 21,
   "metadata": {
    "collapsed": true
   },
   "outputs": [],
   "source": [
    "# load tour details from jsons\n",
    "tours = []\n",
    "cnt = 0\n",
    "for subdir, dirs, files in os.walk(\"data\"):\n",
    "    for file in files:\n",
    "        filepath = subdir + os.sep + file\n",
    "\n",
    "        if filepath.endswith(\".json\"):\n",
    "            tour_id = filepath.replace(\".json\", \"\").split(\"/\")[-1]\n",
    "            with open(filepath) as f:\n",
    "                tours.append(json.load(f))"
   ]
  },
  {
   "cell_type": "code",
   "execution_count": 22,
   "metadata": {},
   "outputs": [
    {
     "data": {
      "text/plain": [
       "Index(['status', 'type', 'date', 'name', 'source', 'distance', 'duration',\n",
       "       'sport', 'query', 'constitution', 'summary', 'difficulty', 'segments',\n",
       "       'path', '_links', 'kcal_active', 'kcal_resting', 'start_point',\n",
       "       'elevation_up', 'elevation_down', 'tour_information', '_embedded', 'id',\n",
       "       'changed_at', 'vector_map_image', 'vector_map_image_preview',\n",
       "       'map_image', 'map_image_preview', 'time_in_motion'],\n",
       "      dtype='object')"
      ]
     },
     "execution_count": 22,
     "metadata": {},
     "output_type": "execute_result"
    }
   ],
   "source": [
    "df = DataFrame(tours)\n",
    "df.columns"
   ]
  },
  {
   "cell_type": "code",
   "execution_count": 23,
   "metadata": {},
   "outputs": [],
   "source": [
    "def extract_coordinates(points):\n",
    "    coordinates = [[x[\"lng\"],x[\"lat\"]] for x in points]\n",
    "    return {\"type\": \"LineString\", \"coordinates\": coordinates}"
   ]
  },
  {
   "cell_type": "code",
   "execution_count": 24,
   "metadata": {},
   "outputs": [
    {
     "data": {
      "text/html": [
       "<div>\n",
       "<style scoped>\n",
       "    .dataframe tbody tr th:only-of-type {\n",
       "        vertical-align: middle;\n",
       "    }\n",
       "\n",
       "    .dataframe tbody tr th {\n",
       "        vertical-align: top;\n",
       "    }\n",
       "\n",
       "    .dataframe thead th {\n",
       "        text-align: right;\n",
       "    }\n",
       "</style>\n",
       "<table border=\"1\" class=\"dataframe\">\n",
       "  <thead>\n",
       "    <tr style=\"text-align: right;\">\n",
       "      <th></th>\n",
       "      <th>status</th>\n",
       "      <th>type</th>\n",
       "      <th>date</th>\n",
       "      <th>name</th>\n",
       "      <th>source</th>\n",
       "      <th>distance</th>\n",
       "      <th>duration</th>\n",
       "      <th>sport</th>\n",
       "      <th>query</th>\n",
       "      <th>constitution</th>\n",
       "      <th>...</th>\n",
       "      <th>elevation_down</th>\n",
       "      <th>tour_information</th>\n",
       "      <th>id</th>\n",
       "      <th>changed_at</th>\n",
       "      <th>vector_map_image</th>\n",
       "      <th>vector_map_image_preview</th>\n",
       "      <th>map_image</th>\n",
       "      <th>map_image_preview</th>\n",
       "      <th>time_in_motion</th>\n",
       "      <th>point_track</th>\n",
       "    </tr>\n",
       "  </thead>\n",
       "  <tbody>\n",
       "    <tr>\n",
       "      <th>0</th>\n",
       "      <td>private</td>\n",
       "      <td>tour_planned</td>\n",
       "      <td>2020-07-18T10:36:19.753+02:00</td>\n",
       "      <td>Unterer Wasserfallweg – Aussichtsturm Hohe War...</td>\n",
       "      <td>{\"api\":\"de.komoot.smarttour\",\"type\":\"tour_plan...</td>\n",
       "      <td>25618.000000</td>\n",
       "      <td>28156</td>\n",
       "      <td>hike</td>\n",
       "      <td>d01AuSoEgCNwZc=FxjUEiwkiZ3ZvQQYF7s5WuKzhOqe_-Q...</td>\n",
       "      <td>3.0</td>\n",
       "      <td>...</td>\n",
       "      <td>774.000000</td>\n",
       "      <td>[]</td>\n",
       "      <td>221418774</td>\n",
       "      <td>2020-07-18T08:36:21.057Z</td>\n",
       "      <td>{'src': 'https://tourpic-vector.maps.komoot.ne...</td>\n",
       "      <td>{'src': 'https://tourpic-vector.maps.komoot.ne...</td>\n",
       "      <td>{'src': 'https://tourpic-vector.maps.komoot.ne...</td>\n",
       "      <td>{'src': 'https://tourpic-vector.maps.komoot.ne...</td>\n",
       "      <td>NaN</td>\n",
       "      <td>{'type': 'LineString', 'coordinates': [[9.2901...</td>\n",
       "    </tr>\n",
       "    <tr>\n",
       "      <th>1</th>\n",
       "      <td>private</td>\n",
       "      <td>tour_planned</td>\n",
       "      <td>2022-10-31T09:20:12.496+01:00</td>\n",
       "      <td>Ausflug von Lise-Meitner-Straße</td>\n",
       "      <td>{\"api\":\"de.komoot.smarttour\",\"type\":\"tour_plan...</td>\n",
       "      <td>21317.000000</td>\n",
       "      <td>24572</td>\n",
       "      <td>hike</td>\n",
       "      <td>d01AtwTIQB3Xds=FwfcBT4Vev8CcxaBDL7WwC6ySjm7eQG...</td>\n",
       "      <td>3.0</td>\n",
       "      <td>...</td>\n",
       "      <td>792.000000</td>\n",
       "      <td>[]</td>\n",
       "      <td>968472406</td>\n",
       "      <td>2022-10-31T08:20:13.681Z</td>\n",
       "      <td>{'src': 'https://tourpic-vector.maps.komoot.ne...</td>\n",
       "      <td>{'src': 'https://tourpic-vector.maps.komoot.ne...</td>\n",
       "      <td>{'src': 'https://tourpic-vector.maps.komoot.ne...</td>\n",
       "      <td>{'src': 'https://tourpic-vector.maps.komoot.ne...</td>\n",
       "      <td>NaN</td>\n",
       "      <td>{'type': 'LineString', 'coordinates': [[7.8228...</td>\n",
       "    </tr>\n",
       "    <tr>\n",
       "      <th>2</th>\n",
       "      <td>private</td>\n",
       "      <td>tour_recorded</td>\n",
       "      <td>2022-07-09T09:14:23.687+02:00</td>\n",
       "      <td>Von Alpirsbach nach Freiburg im Breisgau</td>\n",
       "      <td>{\"api\":\"de.komoot.main-api/tour/recorded\",\"typ...</td>\n",
       "      <td>50938.072056</td>\n",
       "      <td>16108</td>\n",
       "      <td>touringbicycle</td>\n",
       "      <td>NaN</td>\n",
       "      <td>NaN</td>\n",
       "      <td>...</td>\n",
       "      <td>580.899786</td>\n",
       "      <td>NaN</td>\n",
       "      <td>837562793</td>\n",
       "      <td>2022-07-10T07:43:27.867Z</td>\n",
       "      <td>{'src': 'https://tourpic-vector.maps.komoot.ne...</td>\n",
       "      <td>{'src': 'https://tourpic-vector.maps.komoot.ne...</td>\n",
       "      <td>{'src': 'https://tourpic-vector.maps.komoot.ne...</td>\n",
       "      <td>{'src': 'https://tourpic-vector.maps.komoot.ne...</td>\n",
       "      <td>11801.0</td>\n",
       "      <td>{'type': 'LineString', 'coordinates': [[9.1542...</td>\n",
       "    </tr>\n",
       "  </tbody>\n",
       "</table>\n",
       "<p>3 rows × 28 columns</p>\n",
       "</div>"
      ],
      "text/plain": [
       "    status           type                           date  \\\n",
       "0  private   tour_planned  2020-07-18T10:36:19.753+02:00   \n",
       "1  private   tour_planned  2022-10-31T09:20:12.496+01:00   \n",
       "2  private  tour_recorded  2022-07-09T09:14:23.687+02:00   \n",
       "\n",
       "                                                name  \\\n",
       "0  Unterer Wasserfallweg – Aussichtsturm Hohe War...   \n",
       "1                    Ausflug von Lise-Meitner-Straße   \n",
       "2           Von Alpirsbach nach Freiburg im Breisgau   \n",
       "\n",
       "                                              source      distance  duration  \\\n",
       "0  {\"api\":\"de.komoot.smarttour\",\"type\":\"tour_plan...  25618.000000     28156   \n",
       "1  {\"api\":\"de.komoot.smarttour\",\"type\":\"tour_plan...  21317.000000     24572   \n",
       "2  {\"api\":\"de.komoot.main-api/tour/recorded\",\"typ...  50938.072056     16108   \n",
       "\n",
       "            sport                                              query  \\\n",
       "0            hike  d01AuSoEgCNwZc=FxjUEiwkiZ3ZvQQYF7s5WuKzhOqe_-Q...   \n",
       "1            hike  d01AtwTIQB3Xds=FwfcBT4Vev8CcxaBDL7WwC6ySjm7eQG...   \n",
       "2  touringbicycle                                                NaN   \n",
       "\n",
       "   constitution  ... elevation_down tour_information         id  \\\n",
       "0           3.0  ...     774.000000               []  221418774   \n",
       "1           3.0  ...     792.000000               []  968472406   \n",
       "2           NaN  ...     580.899786              NaN  837562793   \n",
       "\n",
       "                 changed_at  \\\n",
       "0  2020-07-18T08:36:21.057Z   \n",
       "1  2022-10-31T08:20:13.681Z   \n",
       "2  2022-07-10T07:43:27.867Z   \n",
       "\n",
       "                                    vector_map_image  \\\n",
       "0  {'src': 'https://tourpic-vector.maps.komoot.ne...   \n",
       "1  {'src': 'https://tourpic-vector.maps.komoot.ne...   \n",
       "2  {'src': 'https://tourpic-vector.maps.komoot.ne...   \n",
       "\n",
       "                            vector_map_image_preview  \\\n",
       "0  {'src': 'https://tourpic-vector.maps.komoot.ne...   \n",
       "1  {'src': 'https://tourpic-vector.maps.komoot.ne...   \n",
       "2  {'src': 'https://tourpic-vector.maps.komoot.ne...   \n",
       "\n",
       "                                           map_image  \\\n",
       "0  {'src': 'https://tourpic-vector.maps.komoot.ne...   \n",
       "1  {'src': 'https://tourpic-vector.maps.komoot.ne...   \n",
       "2  {'src': 'https://tourpic-vector.maps.komoot.ne...   \n",
       "\n",
       "                                   map_image_preview  time_in_motion  \\\n",
       "0  {'src': 'https://tourpic-vector.maps.komoot.ne...             NaN   \n",
       "1  {'src': 'https://tourpic-vector.maps.komoot.ne...             NaN   \n",
       "2  {'src': 'https://tourpic-vector.maps.komoot.ne...         11801.0   \n",
       "\n",
       "                                         point_track  \n",
       "0  {'type': 'LineString', 'coordinates': [[9.2901...  \n",
       "1  {'type': 'LineString', 'coordinates': [[7.8228...  \n",
       "2  {'type': 'LineString', 'coordinates': [[9.1542...  \n",
       "\n",
       "[3 rows x 28 columns]"
      ]
     },
     "execution_count": 24,
     "metadata": {},
     "output_type": "execute_result"
    }
   ],
   "source": [
    "df = DataFrame(tours)\n",
    "df['start_point'] = df['start_point']\\\n",
    "    .map(lambda item: [item['lng'], item['lat']])\n",
    "df[\"point_track\"] = df.apply(lambda x: extract_coordinates(x[\"_embedded\"][\"coordinates\"][\"items\"]), axis=1)\n",
    "df = df.drop([\"_embedded\", \"path\"], axis=1)\n",
    "df.head()"
   ]
  },
  {
   "cell_type": "code",
   "execution_count": 25,
   "metadata": {
    "collapsed": true
   },
   "outputs": [
    {
     "name": "stderr",
     "output_type": "stream",
     "text": [
      "/tmp/ipykernel_6746/1352598953.py:3: ElasticsearchWarning: Elasticsearch built-in security features are not enabled. Without authentication, your cluster could be accessible to anyone. See https://www.elastic.co/guide/en/elasticsearch/reference/7.15/security-minimal-setup.html to enable security.\n",
      "  res = es.index(index='komoot-demo', id=row['id'], document=row.to_json())\n"
     ]
    }
   ],
   "source": [
    "# index tour data\n",
    "for i, row in df.iterrows():\n",
    "    res = es.index(index='komoot', id=row['id'], document=row.to_json())"
   ]
  },
  {
   "cell_type": "code",
   "execution_count": null,
   "metadata": {},
   "outputs": [],
   "source": []
  }
 ],
 "metadata": {
  "kernelspec": {
   "display_name": "Python 3.8.10 ('venv': venv)",
   "language": "python",
   "name": "python3"
  },
  "language_info": {
   "codemirror_mode": {
    "name": "ipython",
    "version": 3
   },
   "file_extension": ".py",
   "mimetype": "text/x-python",
   "name": "python",
   "nbconvert_exporter": "python",
   "pygments_lexer": "ipython3",
   "version": "3.8.10"
  },
  "vscode": {
   "interpreter": {
    "hash": "10ae6d96b1bfd62ddabb176d8c0f0ef12fb328729c9c8fce11974bde82098b82"
   }
  }
 },
 "nbformat": 4,
 "nbformat_minor": 2
}
